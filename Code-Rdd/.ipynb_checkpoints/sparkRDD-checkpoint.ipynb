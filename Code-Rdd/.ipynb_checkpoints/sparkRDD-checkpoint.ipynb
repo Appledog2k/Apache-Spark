{
 "cells": [
  {
   "cell_type": "code",
   "execution_count": 15,
   "id": "739153f6-ae26-4279-9d89-3f3a685b4505",
   "metadata": {},
   "outputs": [],
   "source": [
    "from pyspark.sql import SparkSession\n",
    "from pyspark.context import SparkContext\n",
    "import pyspark\n"
   ]
  },
  {
   "cell_type": "code",
   "execution_count": 16,
   "id": "8d3d2e93-496b-49ff-85ad-5f3e36a9f391",
   "metadata": {},
   "outputs": [],
   "source": [
    "#Creating the SparkSession\n",
    "spark = SparkSession.builder.appName(\"FirstApp\").getOrCreate()"
   ]
  },
  {
   "cell_type": "code",
   "execution_count": 17,
   "id": "b4027dfa-a033-4ab7-a4a1-c699cb4c4f84",
   "metadata": {},
   "outputs": [],
   "source": [
    "data = spark.read.text('data.txt')"
   ]
  },
  {
   "cell_type": "code",
   "execution_count": 18,
   "id": "535ef6d3-ba47-4544-ad6f-ce967d0c6a29",
   "metadata": {},
   "outputs": [
    {
     "name": "stdout",
     "output_type": "stream",
     "text": [
      "+--------------+\n",
      "|         value|\n",
      "+--------------+\n",
      "|Hello world!!!|\n",
      "+--------------+\n",
      "\n"
     ]
    }
   ],
   "source": [
    "data.show()"
   ]
  },
  {
   "cell_type": "code",
   "execution_count": 19,
   "id": "abf2d4a7-3324-430e-be20-c04eaae83bde",
   "metadata": {},
   "outputs": [
    {
     "ename": "AttributeError",
     "evalue": "'SparkSession' object has no attribute 'parallelize'",
     "output_type": "error",
     "traceback": [
      "\u001b[1;31m---------------------------------------------------------------------------\u001b[0m",
      "\u001b[1;31mAttributeError\u001b[0m                            Traceback (most recent call last)",
      "Cell \u001b[1;32mIn[19], line 1\u001b[0m\n\u001b[1;32m----> 1\u001b[0m data2 \u001b[38;5;241m=\u001b[39m \u001b[43mspark\u001b[49m\u001b[38;5;241;43m.\u001b[39;49m\u001b[43mparallelize\u001b[49m(Seq(\u001b[38;5;241m1\u001b[39m,\u001b[38;5;241m2\u001b[39m,\u001b[38;5;241m3\u001b[39m,\u001b[38;5;241m4\u001b[39m,\u001b[38;5;241m5\u001b[39m,\u001b[38;5;241m6\u001b[39m,\u001b[38;5;241m7\u001b[39m))\n",
      "\u001b[1;31mAttributeError\u001b[0m: 'SparkSession' object has no attribute 'parallelize'"
     ]
    }
   ],
   "source": [
    "data2 = spark.parallelize(Seq(1,2,3,4,5,6,7))"
   ]
  },
  {
   "cell_type": "code",
   "execution_count": 14,
   "id": "b5a962e8-d7c1-4551-9513-7d179aa2fbf7",
   "metadata": {},
   "outputs": [
    {
     "ename": "NameError",
     "evalue": "name 'println' is not defined",
     "output_type": "error",
     "traceback": [
      "\u001b[1;31m---------------------------------------------------------------------------\u001b[0m",
      "\u001b[1;31mNameError\u001b[0m                                 Traceback (most recent call last)",
      "Cell \u001b[1;32mIn[14], line 1\u001b[0m\n\u001b[1;32m----> 1\u001b[0m data\u001b[38;5;241m.\u001b[39mforeach(\u001b[43mprintln\u001b[49m)\n",
      "\u001b[1;31mNameError\u001b[0m: name 'println' is not defined"
     ]
    }
   ],
   "source": [
    "data.foreach(println)"
   ]
  },
  {
   "cell_type": "code",
   "execution_count": null,
   "id": "464941f8-f394-4188-8325-7de4ebea818d",
   "metadata": {},
   "outputs": [],
   "source": []
  }
 ],
 "metadata": {
  "kernelspec": {
   "display_name": "Python 3 (ipykernel)",
   "language": "python",
   "name": "python3"
  },
  "language_info": {
   "codemirror_mode": {
    "name": "ipython",
    "version": 3
   },
   "file_extension": ".py",
   "mimetype": "text/x-python",
   "name": "python",
   "nbconvert_exporter": "python",
   "pygments_lexer": "ipython3",
   "version": "3.11.5"
  }
 },
 "nbformat": 4,
 "nbformat_minor": 5
}
