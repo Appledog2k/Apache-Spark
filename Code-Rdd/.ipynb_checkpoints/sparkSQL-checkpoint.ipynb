{
 "cells": [
  {
   "cell_type": "code",
   "execution_count": 5,
   "id": "d026836e-d240-435f-a49e-b4cd50991770",
   "metadata": {},
   "outputs": [
    {
     "name": "stdout",
     "output_type": "stream",
     "text": [
      "+------+---+\n",
      "|  name|age|\n",
      "+------+---+\n",
      "|Brooke| 20|\n",
      "| Denny| 31|\n",
      "| Jules| 30|\n",
      "|    TD| 35|\n",
      "|Brooke| 25|\n",
      "+------+---+\n",
      "\n"
     ]
    }
   ],
   "source": [
    "from pyspark.sql import SparkSession\n",
    " \n",
    "from pyspark.sql.functions import current_date,year\n",
    " \n",
    "from pyspark.sql.types import IntegerType,StructType,StructField,StringType\n",
    " \n",
    "from datetime import datetime, date\n",
    " \n",
    "from pyspark import SparkContext\n",
    "\n",
    "import os\n",
    "\n",
    "os.environ['PYSPARK_PYTHON'] = \"C:/Users/apple/AppData/Local/Programs/Python/Python311/python\"\n",
    " \n",
    "# Tạo SparkSession\n",
    "spark = SparkSession.builder \\\n",
    "    .appName(\"AuthorsAges\") \\\n",
    "    .getOrCreate()\n",
    "\n",
    "# Tạo DataFrame\n",
    "data_df = spark.createDataFrame([\n",
    "    (\"Brooke\", 20), (\"Denny\", 31), (\"Jules\", 30),\n",
    "    (\"TD\", 35), (\"Brooke\", 25)\n",
    "], [\"name\", \"age\"])\n",
    "\n",
    "# Hiển thị kết quả\n",
    "data_df.show()"
   ]
  },
  {
   "cell_type": "code",
   "execution_count": null,
   "id": "25a944bd-768d-474e-9e77-8a4bbf29ffa1",
   "metadata": {},
   "outputs": [],
   "source": []
  }
 ],
 "metadata": {
  "kernelspec": {
   "display_name": "Python 3 (ipykernel)",
   "language": "python",
   "name": "python3"
  },
  "language_info": {
   "codemirror_mode": {
    "name": "ipython",
    "version": 3
   },
   "file_extension": ".py",
   "mimetype": "text/x-python",
   "name": "python",
   "nbconvert_exporter": "python",
   "pygments_lexer": "ipython3",
   "version": "3.11.5"
  }
 },
 "nbformat": 4,
 "nbformat_minor": 5
}
