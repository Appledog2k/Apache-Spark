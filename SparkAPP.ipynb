{
 "cells": [
  {
   "cell_type": "code",
   "execution_count": 9,
   "id": "e7f87fb8-ed19-43de-bce9-5405daf148b3",
   "metadata": {},
   "outputs": [],
   "source": [
    "#Importing the packages\n",
    "from pyspark.sql import SparkSession\n",
    "from pyspark.sql.types import StructType, StructField, IntegerType, StringType\n",
    "import pyspark.sql.functions as func"
   ]
  },
  {
   "cell_type": "code",
   "execution_count": 10,
   "id": "595f75b6-50cd-4a5a-a423-75c770b09785",
   "metadata": {},
   "outputs": [],
   "source": [
    "#Creating the SparkSession\n",
    "spark = SparkSession.builder.appName(\"FirstApp\").getOrCreate()"
   ]
  },
  {
   "cell_type": "code",
   "execution_count": 11,
   "id": "65d9f4b1-e8ce-47d9-b84d-d5740cbcfe97",
   "metadata": {},
   "outputs": [],
   "source": [
    "#Defining schema for your DataFrame\n",
    "myschema = StructType([\\\n",
    "                       StructField(\"userID\", IntegerType(), True),\n",
    "                       StructField(\"name\", StringType(), True),\n",
    "                       StructField(\"age\",IntegerType(), True),\n",
    "                       StructField(\"friends\",IntegerType(), True),\n",
    "                        ])"
   ]
  },
  {
   "cell_type": "code",
   "execution_count": 12,
   "id": "9e6042c0-7548-4075-ad8d-3b8b1bfe2758",
   "metadata": {},
   "outputs": [],
   "source": [
    "#Creating DataFrame on a CSV file\n",
    "people = spark.read.format(\"csv\")\\\n",
    "    .schema(myschema)\\\n",
    "    .option(\"path\",\"fakefriends.csv\")\\\n",
    "    .load()"
   ]
  },
  {
   "cell_type": "code",
   "execution_count": 13,
   "id": "49629578-e27f-48ea-82d7-3554647a789c",
   "metadata": {},
   "outputs": [],
   "source": [
    "#Performing all thetransformations\n",
    "output = people.select(people.userID,people.name\\\n",
    "                       ,people.age,people.friends)\\\n",
    "         .where(people.age < 30).withColumn('insert_ts', func.current_timestamp())\\\n",
    "         .orderBy(people.userID)"
   ]
  },
  {
   "cell_type": "code",
   "execution_count": 14,
   "id": "699abd7c-dc07-410a-aad4-e74877995153",
   "metadata": {},
   "outputs": [
    {
     "data": {
      "text/plain": [
       "112"
      ]
     },
     "execution_count": 14,
     "metadata": {},
     "output_type": "execute_result"
    }
   ],
   "source": [
    "#taking the count of o/p DataFrame\n",
    "output.count()"
   ]
  },
  {
   "cell_type": "code",
   "execution_count": 15,
   "id": "c2a1e06f-7969-4c3c-8211-f47e4fb2be22",
   "metadata": {},
   "outputs": [],
   "source": [
    "#Creating a Temp View\n",
    "output.createOrReplaceTempView(\"peoples\")"
   ]
  },
  {
   "cell_type": "code",
   "execution_count": 16,
   "id": "2a174cab-6ccd-4d64-9dc1-949f4b136a69",
   "metadata": {},
   "outputs": [
    {
     "name": "stdout",
     "output_type": "stream",
     "text": [
      "+--------+---+-------+--------------------+\n",
      "|    name|age|friends|           insert_ts|\n",
      "+--------+---+-------+--------------------+\n",
      "|Jean-Luc| 26|      2|2024-03-15 14:41:...|\n",
      "|    Hugh| 27|    181|2024-03-15 14:41:...|\n",
      "+--------+---+-------+--------------------+\n",
      "only showing top 2 rows\n",
      "\n"
     ]
    }
   ],
   "source": [
    "#Running a simple Spark SQL query\n",
    "spark.sql(\"select name,age,friends,insert_ts from peoples\").show(2)"
   ]
  },
  {
   "cell_type": "code",
   "execution_count": null,
   "id": "be56ce35-600e-43c5-a7f1-2e970d92fcad",
   "metadata": {},
   "outputs": [],
   "source": []
  },
  {
   "cell_type": "code",
   "execution_count": null,
   "id": "70fd6ad0-826c-49e8-96cf-2381cbf0127f",
   "metadata": {},
   "outputs": [],
   "source": []
  },
  {
   "cell_type": "code",
   "execution_count": null,
   "id": "6da4a1ad-ee44-4dba-a77f-0df9b27556f9",
   "metadata": {},
   "outputs": [],
   "source": []
  },
  {
   "cell_type": "code",
   "execution_count": null,
   "id": "c17a3cf4-52c2-41b1-b386-6653837e107d",
   "metadata": {},
   "outputs": [],
   "source": []
  },
  {
   "cell_type": "code",
   "execution_count": null,
   "id": "f54cdfad-e91f-4304-be8d-9d40e97e33d3",
   "metadata": {},
   "outputs": [],
   "source": []
  },
  {
   "cell_type": "code",
   "execution_count": null,
   "id": "dab072d2-eaee-4e40-8d7e-a4e216318a72",
   "metadata": {},
   "outputs": [],
   "source": []
  },
  {
   "cell_type": "code",
   "execution_count": null,
   "id": "5ea41ade-ab75-43cf-95fa-388d0c3bc6a5",
   "metadata": {},
   "outputs": [],
   "source": []
  },
  {
   "cell_type": "code",
   "execution_count": null,
   "id": "e516817e-de82-4174-a738-279c5b77a045",
   "metadata": {},
   "outputs": [],
   "source": []
  },
  {
   "cell_type": "code",
   "execution_count": null,
   "id": "92474077-39d8-4acc-8d99-15bac88af2ce",
   "metadata": {},
   "outputs": [],
   "source": []
  },
  {
   "cell_type": "code",
   "execution_count": null,
   "id": "486b0eb3-881f-4f70-ab9a-751b163d890b",
   "metadata": {},
   "outputs": [],
   "source": []
  }
 ],
 "metadata": {
  "kernelspec": {
   "display_name": "Python 3 (ipykernel)",
   "language": "python",
   "name": "python3"
  },
  "language_info": {
   "codemirror_mode": {
    "name": "ipython",
    "version": 3
   },
   "file_extension": ".py",
   "mimetype": "text/x-python",
   "name": "python",
   "nbconvert_exporter": "python",
   "pygments_lexer": "ipython3",
   "version": "3.11.5"
  }
 },
 "nbformat": 4,
 "nbformat_minor": 5
}
