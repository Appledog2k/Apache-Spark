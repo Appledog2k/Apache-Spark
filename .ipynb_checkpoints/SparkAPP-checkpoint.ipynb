{
 "cells": [
  {
   "cell_type": "code",
   "execution_count": null,
   "id": "e7f87fb8-ed19-43de-bce9-5405daf148b3",
   "metadata": {},
   "outputs": [],
   "source": [
    "#Importing the packages\n",
    "from pyspark.sql import SparkSession\n",
    "from pyspark.sql.types import StructType, StructField, IntegerType, StringType\n",
    "import pyspark.sql.functions as func"
   ]
  },
  {
   "cell_type": "code",
   "execution_count": null,
   "id": "595f75b6-50cd-4a5a-a423-75c770b09785",
   "metadata": {},
   "outputs": [],
   "source": [
    "#Creating the SparkSession\n",
    "spark = SparkSession.builder.appName(\"FirstApp\").getOrCreate()"
   ]
  },
  {
   "cell_type": "code",
   "execution_count": null,
   "id": "65d9f4b1-e8ce-47d9-b84d-d5740cbcfe97",
   "metadata": {},
   "outputs": [],
   "source": [
    "#Defining schema for your DataFrame\n",
    "myschema = StructType([\\\n",
    "                       StructField(\"userID\", IntegerType(), True),\n",
    "                       StructField(\"name\", StringType(), True),\n",
    "                       StructField(\"age\",IntegerType(), True),\n",
    "                       StructField(\"friends\",IntegerType(), True),\n",
    "                        ])"
   ]
  },
  {
   "cell_type": "code",
   "execution_count": null,
   "id": "9e6042c0-7548-4075-ad8d-3b8b1bfe2758",
   "metadata": {},
   "outputs": [],
   "source": [
    "#Creating DataFrame on a CSV file\n",
    "people = spark.read.format(\"csv\")\\\n",
    "    .schema(myschema)\\\n",
    "    .option(\"path\",\"fakefriends.csv\")\\\n",
    "    .load()"
   ]
  },
  {
   "cell_type": "code",
   "execution_count": null,
   "id": "49629578-e27f-48ea-82d7-3554647a789c",
   "metadata": {},
   "outputs": [],
   "source": [
    "#Performing all thetransformations\n",
    "output = people.select(people.userID,people.name\\\n",
    "                       ,people.age,people.friends)\\\n",
    "         .where(people.age < 30).withColumn('insert_ts', func.current_timestamp())\\\n",
    "         .orderBy(people.userID)"
   ]
  },
  {
   "cell_type": "code",
   "execution_count": null,
   "id": "699abd7c-dc07-410a-aad4-e74877995153",
   "metadata": {},
   "outputs": [],
   "source": [
    "#taking the count of o/p DataFrame\n",
    "output.count()"
   ]
  },
  {
   "cell_type": "code",
   "execution_count": null,
   "id": "c2a1e06f-7969-4c3c-8211-f47e4fb2be22",
   "metadata": {},
   "outputs": [],
   "source": [
    "#Creating a Temp View\n",
    "output.createOrReplaceTempView(\"peoples\")"
   ]
  },
  {
   "cell_type": "code",
   "execution_count": null,
   "id": "2a174cab-6ccd-4d64-9dc1-949f4b136a69",
   "metadata": {},
   "outputs": [],
   "source": [
    "#Running a simple Spark SQL query\n",
    "spark.sql(\"select name,age,friends,insert_ts from peoples\").show()"
   ]
  }
 ],
 "metadata": {
  "kernelspec": {
   "display_name": "Python 3 (ipykernel)",
   "language": "python",
   "name": "python3"
  },
  "language_info": {
   "codemirror_mode": {
    "name": "ipython",
    "version": 3
   },
   "file_extension": ".py",
   "mimetype": "text/x-python",
   "name": "python",
   "nbconvert_exporter": "python",
   "pygments_lexer": "ipython3",
   "version": "3.11.5"
  }
 },
 "nbformat": 4,
 "nbformat_minor": 5
}
